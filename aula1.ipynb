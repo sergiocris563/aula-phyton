{
 "cells": [
  {
   "attachments": {},
   "cell_type": "markdown",
   "metadata": {},
   "source": [
    "[1, 2, 3]\n",
    "\n",
    "[4, 5, 6]~\n",
    "\n",
    "lista1 - x\n",
    "lista2 - y\n",
    "lista3 - z\n",
    "\n",
    "a = lista1\n",
    "b = lista2\n",
    "\n",
    "a + b -> somar valores da lista\n",
    "\n",
    "for -> percorre o que está em A & B\n",
    "\n",
    "zip -> permite "
   ]
  },
  {
   "cell_type": "code",
   "execution_count": 9,
   "metadata": {},
   "outputs": [
    {
     "name": "stdout",
     "output_type": "stream",
     "text": [
      "[1, 2, 3, 4, 5, 6]\n"
     ]
    }
   ],
   "source": [
    "# Exemplo 1\n",
    "\n",
    "lista1 = [1, 2, 3]\n",
    "lista2 = [4, 5, 6]\n",
    "\n",
    "soma = lista1 + lista2\n",
    "print(soma)"
   ]
  },
  {
   "cell_type": "code",
   "execution_count": 10,
   "metadata": {},
   "outputs": [
    {
     "name": "stdout",
     "output_type": "stream",
     "text": [
      "[5, 7, 9]\n"
     ]
    }
   ],
   "source": [
    "# Exemplo 2\n",
    "\n",
    "lista1 = [1, 2, 3]\n",
    "lista2 = [4, 5, 6]\n",
    "\n",
    "combine = [a + b for a, b in zip(lista1, lista2)]\n",
    "print(combine)"
   ]
  },
  {
   "cell_type": "code",
   "execution_count": 13,
   "metadata": {},
   "outputs": [
    {
     "name": "stdout",
     "output_type": "stream",
     "text": [
      "{('Mitsubishi', 120), ('Volvo', 180), ('Honda', 134), ('BWM', 300)}\n"
     ]
    }
   ],
   "source": [
    "# Exemplo 3\n",
    "\n",
    "carro = ['Mitsubishi', 'Honda', 'Volvo', 'BWM']\n",
    "potencia = [120, 134, 180, 300]\n",
    "\n",
    "combine = set(zip(carro, potencia))\n",
    "print(combine)"
   ]
  },
  {
   "cell_type": "code",
   "execution_count": null,
   "metadata": {},
   "outputs": [],
   "source": [
    "# Exemplo 4\n",
    "\n",
    "nomes = ['Messi', 'Zidane', 'Ronaldo_Fenômeno']\n",
    "idades = [36, 51, 47]\n",
    "\n",
    "for i, (nomes, idades) in enumerate(zip(nomes, idades)):\n",
    "    print(i, nomes, idades)"
   ]
  }
 ],
 "metadata": {
  "kernelspec": {
   "display_name": "Python 3",
   "language": "python",
   "name": "python3"
  },
  "language_info": {
   "codemirror_mode": {
    "name": "ipython",
    "version": 3
   },
   "file_extension": ".py",
   "mimetype": "text/x-python",
   "name": "python",
   "nbconvert_exporter": "python",
   "pygments_lexer": "ipython3",
   "version": "3.11.4"
  },
  "orig_nbformat": 4
 },
 "nbformat": 4,
 "nbformat_minor": 2
}
