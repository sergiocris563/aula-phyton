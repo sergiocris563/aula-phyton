{
 "cells": [
  {
   "attachments": {},
   "cell_type": "markdown",
   "metadata": {},
   "source": [
    "[1, 2, 3]\n",
    "\n",
    "[4, 5, 6]~\n",
    "\n",
    "lista1 - x\n",
    "lista2 - y\n",
    "lista3 - z\n",
    "\n",
    "a = lista1\n",
    "b = lista2\n",
    "\n",
    "a + b -> somar valores da lista\n",
    "\n",
    "for -> percorre o que está em A & B\n",
    "\n",
    "zip -> permite \n",
    "\n",
    "3 x 3\n",
    "\n",
    "(3 a, peixe) (2, b, passaro) (3, c, repteis)\n",
    "(2, b, passaro) (1, a, peixe) (3, c, repteis)\n",
    "(3, c, repteis) (2, b, passaro) (1, a, peixe)"
   ]
  },
  {
   "cell_type": "code",
   "execution_count": 9,
   "metadata": {},
   "outputs": [
    {
     "name": "stdout",
     "output_type": "stream",
     "text": [
      "[1, 2, 3, 4, 5, 6]\n"
     ]
    }
   ],
   "source": [
    "# Exemplo 1\n",
    "\n",
    "lista1 = [1, 2, 3]\n",
    "lista2 = [4, 5, 6]\n",
    "\n",
    "soma = lista1 + lista2\n",
    "print(soma)"
   ]
  },
  {
   "cell_type": "code",
   "execution_count": 10,
   "metadata": {},
   "outputs": [
    {
     "name": "stdout",
     "output_type": "stream",
     "text": [
      "[5, 7, 9]\n"
     ]
    }
   ],
   "source": [
    "# Exemplo 2\n",
    "\n",
    "lista1 = [1, 2, 3]\n",
    "lista2 = [4, 5, 6]\n",
    "\n",
    "combine = [a + b for a, b in zip(lista1, lista2)]\n",
    "print(combine)"
   ]
  },
  {
   "cell_type": "code",
   "execution_count": 13,
   "metadata": {},
   "outputs": [
    {
     "name": "stdout",
     "output_type": "stream",
     "text": [
      "{('Mitsubishi', 120), ('Volvo', 180), ('Honda', 134), ('BWM', 300)}\n"
     ]
    }
   ],
   "source": [
    "# Exemplo 3\n",
    "\n",
    "carro = ['Mitsubishi', 'Honda', 'Volvo', 'BWM']\n",
    "potencia = [120, 134, 180, 300]\n",
    "\n",
    "combine = set(zip(carro, potencia))\n",
    "print(combine)"
   ]
  },
  {
   "cell_type": "code",
   "execution_count": 14,
   "metadata": {},
   "outputs": [
    {
     "name": "stdout",
     "output_type": "stream",
     "text": [
      "0 Messi 36\n",
      "1 Zidane 51\n",
      "2 Ronaldo_Fenômeno 47\n"
     ]
    }
   ],
   "source": [
    "# Exemplo 4\n",
    "\n",
    "nomes = ['Messi', 'Zidane', 'Ronaldo_Fenômeno']\n",
    "idades = [36, 51, 47]\n",
    "\n",
    "for i, (nomes, idades) in enumerate(zip(nomes, idades)):\n",
    "    print(i, nomes, idades)"
   ]
  },
  {
   "cell_type": "code",
   "execution_count": 15,
   "metadata": {},
   "outputs": [
    {
     "name": "stdout",
     "output_type": "stream",
     "text": [
      "[(1, 'a', 'peixe'), (2, 'b', 'passaro'), (3, 'c', 'repteis')]\n"
     ]
    }
   ],
   "source": [
    "# Exemplo 5\n",
    "\n",
    "lista1 = [1, 2, 3]\n",
    "lista2 = ['a', 'b', 'c']\n",
    "lista3 = ['peixe', 'passaro', 'repteis']\n",
    "\n",
    "combine = list(zip(lista1, lista2, lista3))\n",
    "print(combine)"
   ]
  },
  {
   "cell_type": "code",
   "execution_count": 19,
   "metadata": {},
   "outputs": [
    {
     "ename": "TypeError",
     "evalue": "not all arguments converted during string formatting",
     "output_type": "error",
     "traceback": [
      "\u001b[1;31m---------------------------------------------------------------------------\u001b[0m",
      "\u001b[1;31mTypeError\u001b[0m                                 Traceback (most recent call last)",
      "Cell \u001b[1;32mIn[19], line 6\u001b[0m\n\u001b[0;32m      3\u001b[0m lista1 \u001b[39m=\u001b[39m [\u001b[39m'\u001b[39m\u001b[39m1\u001b[39m\u001b[39m'\u001b[39m, \u001b[39m'\u001b[39m\u001b[39m2\u001b[39m\u001b[39m'\u001b[39m, \u001b[39m'\u001b[39m\u001b[39m3\u001b[39m\u001b[39m'\u001b[39m, \u001b[39m'\u001b[39m\u001b[39m4\u001b[39m\u001b[39m'\u001b[39m, \u001b[39m'\u001b[39m\u001b[39m5\u001b[39m\u001b[39m'\u001b[39m]\n\u001b[0;32m      4\u001b[0m lista2 \u001b[39m=\u001b[39m [\u001b[39m'\u001b[39m\u001b[39ma\u001b[39m\u001b[39m'\u001b[39m, \u001b[39m'\u001b[39m\u001b[39mb\u001b[39m\u001b[39m'\u001b[39m, \u001b[39m'\u001b[39m\u001b[39mc\u001b[39m\u001b[39m'\u001b[39m, \u001b[39m'\u001b[39m\u001b[39md\u001b[39m\u001b[39m'\u001b[39m, \u001b[39m'\u001b[39m\u001b[39me\u001b[39m\u001b[39m'\u001b[39m]\n\u001b[1;32m----> 6\u001b[0m combine \u001b[39m=\u001b[39m [(a,b) \u001b[39mfor\u001b[39;49;00m a, b \u001b[39min\u001b[39;49;00m \u001b[39mzip\u001b[39;49m(lista1, lista2) \u001b[39mif\u001b[39;49;00m a\u001b[39m%\u001b[39;49m\u001b[39m2\u001b[39;49m \u001b[39m==\u001b[39;49m \u001b[39m0\u001b[39;49m]\n\u001b[0;32m      7\u001b[0m \u001b[39mprint\u001b[39m(combine)\n",
      "Cell \u001b[1;32mIn[19], line 6\u001b[0m, in \u001b[0;36m<listcomp>\u001b[1;34m(.0)\u001b[0m\n\u001b[0;32m      3\u001b[0m lista1 \u001b[39m=\u001b[39m [\u001b[39m'\u001b[39m\u001b[39m1\u001b[39m\u001b[39m'\u001b[39m, \u001b[39m'\u001b[39m\u001b[39m2\u001b[39m\u001b[39m'\u001b[39m, \u001b[39m'\u001b[39m\u001b[39m3\u001b[39m\u001b[39m'\u001b[39m, \u001b[39m'\u001b[39m\u001b[39m4\u001b[39m\u001b[39m'\u001b[39m, \u001b[39m'\u001b[39m\u001b[39m5\u001b[39m\u001b[39m'\u001b[39m]\n\u001b[0;32m      4\u001b[0m lista2 \u001b[39m=\u001b[39m [\u001b[39m'\u001b[39m\u001b[39ma\u001b[39m\u001b[39m'\u001b[39m, \u001b[39m'\u001b[39m\u001b[39mb\u001b[39m\u001b[39m'\u001b[39m, \u001b[39m'\u001b[39m\u001b[39mc\u001b[39m\u001b[39m'\u001b[39m, \u001b[39m'\u001b[39m\u001b[39md\u001b[39m\u001b[39m'\u001b[39m, \u001b[39m'\u001b[39m\u001b[39me\u001b[39m\u001b[39m'\u001b[39m]\n\u001b[1;32m----> 6\u001b[0m combine \u001b[39m=\u001b[39m [(a,b) \u001b[39mfor\u001b[39;00m a, b \u001b[39min\u001b[39;00m \u001b[39mzip\u001b[39m(lista1, lista2) \u001b[39mif\u001b[39;00m a\u001b[39m%\u001b[39;49m\u001b[39m2\u001b[39;49m \u001b[39m==\u001b[39m \u001b[39m0\u001b[39m]\n\u001b[0;32m      7\u001b[0m \u001b[39mprint\u001b[39m(combine)\n",
      "\u001b[1;31mTypeError\u001b[0m: not all arguments converted during string formatting"
     ]
    }
   ],
   "source": [
    "# Exercicio de listas\n",
    "\n",
    "lista1 = ['1', '2', '3', '4', '5']\n",
    "lista2 = ['a', 'b', 'c', 'd', 'e']\n",
    "\n",
    "combine = [(a,b) for a, b in zip(lista1, lista2) if a%2 == 0]\n",
    "print(combine)\n"
   ]
  },
  {
   "cell_type": "code",
   "execution_count": null,
   "metadata": {},
   "outputs": [],
   "source": [
    "lista1 = [9, 8, 7, 12, 0, 13, 21, 25]"
   ]
  },
  {
   "cell_type": "code",
   "execution_count": 24,
   "metadata": {},
   "outputs": [
    {
     "name": "stdout",
     "output_type": "stream",
     "text": [
      "[(1, 10), (2, 20), (3, 30), (4, 100), (5, 100)]\n"
     ]
    }
   ],
   "source": [
    "# Exercicio 01\n",
    "\n",
    "# Para uma lista de pacientes, crie um algoritmo em Python que mostre os pacientes que possuem diabetes. Utilize a função zip para desenvolver seu código.\n",
    "\n",
    "lista1 = [1, 2, 3, 4, 5]\n",
    "lista2 = [10, 20, 30]\n",
    "\n",
    "from itertools import zip_longest\n",
    "\n",
    "combine = list(zip_longest(lista1, lista2, fillvalue = 100))\n",
    "print(combine)"
   ]
  },
  {
   "cell_type": "code",
   "execution_count": null,
   "metadata": {},
   "outputs": [],
   "source": [
    "# Exemplo 8\n",
    "\n",
    "preco = [2.50, 1.20, 3, 2, 4.50]\n",
    "quantidades = [10, 5, 2, 3, 6]\n",
    "frutas = ['banana', 'laranja', 'uva', 'maça', 'pera']\n",
    "\n"
   ]
  }
 ],
 "metadata": {
  "kernelspec": {
   "display_name": "Python 3",
   "language": "python",
   "name": "python3"
  },
  "language_info": {
   "codemirror_mode": {
    "name": "ipython",
    "version": 3
   },
   "file_extension": ".py",
   "mimetype": "text/x-python",
   "name": "python",
   "nbconvert_exporter": "python",
   "pygments_lexer": "ipython3",
   "version": "3.11.4"
  },
  "orig_nbformat": 4
 },
 "nbformat": 4,
 "nbformat_minor": 2
}
